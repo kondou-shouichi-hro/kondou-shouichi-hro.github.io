{
  "nbformat": 4,
  "nbformat_minor": 0,
  "metadata": {
    "colab": {
      "name": "3d_mesh_estimation.ipynb",
      "provenance": [],
      "authorship_tag": "ABX9TyNXm8gjHUIJ+MPUSsEyJuBQ",
      "include_colab_link": true
    },
    "kernelspec": {
      "name": "python3",
      "display_name": "Python 3"
    },
    "accelerator": "GPU"
  },
  "cells": [
    {
      "cell_type": "markdown",
      "metadata": {
        "id": "view-in-github",
        "colab_type": "text"
      },
      "source": [
        "<a href=\"https://colab.research.google.com/github/kondou-shouichi-hro/kondou-shouichi-hro.github.io/blob/master/3d_mesh_estimation.ipynb\" target=\"_parent\"><img src=\"https://colab.research.google.com/assets/colab-badge.svg\" alt=\"Open In Colab\"/></a>"
      ]
    },
    {
      "cell_type": "markdown",
      "metadata": {
        "id": "tkjzJX57sKYT",
        "colab_type": "text"
      },
      "source": [
        "- 動画ファイルをアップロードし、パスを以下の「$env FILENAME=」の後に張り付ける（ファイル名にスペースが入っていると動かないので注意）\n",
        "- 実行ボタンをクリック\n",
        "- しばらくすると「output/ファイル名/」の下にmp4ファイルが生成されているのでダウンロード\n",
        "  - 「output/ファイル名/meshes」には各フレームごとの3次元モデルが入っている"
      ]
    },
    {
      "cell_type": "code",
      "metadata": {
        "id": "sHi8PXDsmtwG",
        "colab_type": "code",
        "colab": {}
      },
      "source": [
        "%env FILENAME=\n",
        "\n",
        "!git clone https://github.com/mkocabas/VIBE.git\n",
        "%cd VIBE\n",
        "!pip install git+https://github.com/giacaglia/pytube.git --upgrade\n",
        "!pip install tensorboad\n",
        "!pip install scikit-image\n",
        "!pip install scikit-video\n",
        "!pip install opencv-python\n",
        "!pip install git+https://github.com/mattloper/chumpy.git\n",
        "!pip install git+https://github.com/mkocabas/yolov3-pytorch.git\n",
        "!pip install git+https://github.com/mkocabas/multi-person-tracker.git\n",
        "!pip install filterpy yacs smplx trimesh pyrender\n",
        "\n",
        "!sh ./scripts/prepare_data.sh\n",
        "\n",
        "!python demo.py --vid_file $FILENAME --output_folder /content/output/ --save_obj"
      ],
      "execution_count": 0,
      "outputs": []
    },
    {
      "cell_type": "code",
      "metadata": {
        "id": "zqhSIjNlsluc",
        "colab_type": "code",
        "colab": {}
      },
      "source": [
        ""
      ],
      "execution_count": 0,
      "outputs": []
    }
  ]
}